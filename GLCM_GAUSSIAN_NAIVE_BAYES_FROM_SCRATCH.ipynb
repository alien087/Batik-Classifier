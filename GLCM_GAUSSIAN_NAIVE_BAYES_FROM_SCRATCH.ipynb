{
 "cells": [
  {
   "cell_type": "code",
   "execution_count": 35,
   "metadata": {},
   "outputs": [],
   "source": [
    "from PIL import Image\n",
    "from PIL import ImageDraw\n",
    "import timeit\n",
    "import glob\n",
    "import math\n",
    "import matplotlib.pyplot as plt\n",
    "import numpy as np\n",
    "import os\n",
    "import sys\n",
    "from skimage.feature import greycomatrix, greycoprops\n",
    "import matplotlib.image as mpimg \n",
    "from math import sqrt\n",
    "from sklearn.preprocessing import StandardScaler\n",
    "from sklearn.preprocessing import RobustScaler\n",
    "from sklearn.preprocessing import MinMaxScaler\n",
    "import seaborn as sns\n",
    "import pandas as pd\n",
    "from sklearn import preprocessing\n",
    "import random"
   ]
  },
  {
   "cell_type": "code",
   "execution_count": 36,
   "metadata": {},
   "outputs": [],
   "source": [
    "map_8bit_to_3bit = [i // 32 for i in range(256)]\n",
    "model = {}\n",
    "model_test = {}\n",
    "neighbor = 3\n",
    "time_modelling_start = timeit.default_timer()\n",
    "model[\"cap\"] = []\n",
    "model[\"tulis\"] = []\n",
    "model_test[\"cap\"] = []\n",
    "model_test[\"tulis\"] = []\n",
    "mean = {}\n",
    "variance = {}\n",
    "mean[\"tulis\"] = []\n",
    "variance[\"tulis\"] = []\n",
    "mean[\"cap\"] = []\n",
    "variance[\"cap\"] = []"
   ]
  },
  {
   "cell_type": "code",
   "execution_count": 37,
   "metadata": {},
   "outputs": [],
   "source": [
    "#Pre Processing\n",
    "def load_img(img_path):\n",
    "    return Image.open(img_path).convert('L')\n",
    "\n",
    "def get_img_size(img):\n",
    "    return img.size\n",
    "\n",
    "def print_img(img):\n",
    "    plt.imshow(img)\n",
    "    \n",
    "def get_img_colors(img, sampling_count):\n",
    "    img_width, img_height = get_img_size(img)\n",
    "    \n",
    "    sample_width = int(img_width / sampling_count)\n",
    "    sample_height = int(img_height / sampling_count)\n",
    "    \n",
    "    half_sample_width = int(sample_width/2)\n",
    "    half_sample_height = int(sample_height/2)\n",
    "\n",
    "    img_colors = []\n",
    "\n",
    "    width_constraint = img_width - (2 * sample_width)\n",
    "    height_constraint = img_height - (2 * sample_height)\n",
    "   \n",
    "    row = 0\n",
    "    for point_x in range(half_sample_width, img_width, sample_width):\n",
    "        if(row == sampling_count):\n",
    "            break\n",
    "        column = 0\n",
    "        for point_y in range(half_sample_height, img_height, sample_height):\n",
    "            if(column == sampling_count):\n",
    "                break\n",
    "            img_colors.append(img.getpixel((point_x, point_y)))\n",
    "                \n",
    "            column += 1\n",
    "                \n",
    "        row += 1\n",
    "            \n",
    "    return img_colors\n",
    "\n",
    "def construct_img(img_colors, img_dimension, sampling_count):\n",
    "    img_new = Image.new('RGB', (img_dimension), (255, 255, 255))\n",
    "    draw = ImageDraw.Draw(img_new)\n",
    "    \n",
    "    img_new_width = img_dimension[0]\n",
    "    img_new_height = img_dimension[1]\n",
    "\n",
    "    sample_width = int(img_new_width/sampling_count)\n",
    "    sample_height = int(img_new_height/sampling_count)\n",
    "    loop_count = 0\n",
    "\n",
    "    img_colors_len = len(img_colors)\n",
    "\n",
    "    for w in range(0, img_new_width, sample_width):\n",
    "        for h in range(0, img_new_height, sample_height):\n",
    "            if(loop_count == img_colors_len):\n",
    "                break\n",
    "            \n",
    "            current_color = (img_colors[loop_count], img_colors[loop_count], img_colors[loop_count])\n",
    "            draw.rectangle((w, h, w+sample_width, h+sample_height), fill=current_color)\n",
    "            loop_count += 1\n",
    "    \n",
    "    return img_new\n",
    "\n",
    "def get_3bit_colors(img_colors):\n",
    "    loop_count = 0\n",
    "    \n",
    "    for img_color in img_colors:\n",
    "        img_colors[loop_count] = map_8bit_to_3bit[img_color]\n",
    "        \n",
    "        loop_count += 1\n",
    "        \n",
    "    return img_colors\n",
    "\n",
    "def get_img_matrix(img_colors):\n",
    "    img_matrix = [] \n",
    "    loop_count = 0\n",
    "    \n",
    "    loop_count = 0\n",
    "    img_square_dimension = int(math.sqrt(len(img_colors)))\n",
    "    \n",
    "    for row in range(img_square_dimension):\n",
    "        temp_row = []\n",
    "        for col in range(img_square_dimension):\n",
    "            temp_row.append(img_colors[loop_count])\n",
    "            \n",
    "            loop_count += 1\n",
    "        img_matrix.append(temp_row)\n",
    "        \n",
    "    return img_matrix\n"
   ]
  },
  {
   "cell_type": "code",
   "execution_count": 38,
   "metadata": {},
   "outputs": [],
   "source": [
    "#Features Extraction\n",
    "def feature_extract(img, sampling_count, class_name):\n",
    "    glcm_component=[]\n",
    "    img_colors = get_img_colors(img, sampling_count)\n",
    "    img_3bit_colors = get_3bit_colors(img_colors)\n",
    "    img_matrix = get_img_matrix(img_3bit_colors)\n",
    "    glcm_matrix=greycomatrix(img_matrix, distances=[1], angles=[0], levels=12, symmetric=False, normed=False)\n",
    "    component = ['contrast', 'homogeneity', 'energy', 'correlation', 'ASM', 'dissimilarity']\n",
    "    for x in component:\n",
    "        glcm_component.append(greycoprops(glcm_matrix, x)[0][0])\n",
    "    glcm_component.append(class_name)\n",
    "    return(glcm_component)"
   ]
  },
  {
   "cell_type": "code",
   "execution_count": 39,
   "metadata": {},
   "outputs": [],
   "source": [
    "#Modelling\n",
    "def get_class_names(training_folder_path):\n",
    "    return os.listdir(training_folder_path)\n",
    "\n",
    "def make_a_model(class_name, features, learning_rate):\n",
    "    random_splitter = random.uniform(0, 1)\n",
    "    if(random_splitter <= learning_rate):\n",
    "        model[class_name].append(features)\n",
    "    else:\n",
    "        model_test[class_name].append(features)\n",
    "        \n",
    "def to_dataframe(model):\n",
    "    models = pd.DataFrame(model['cap'] + model['tulis'], columns=['contrast', 'homogeneity', 'energy', 'correlation', 'ASM', 'dissimilarity', 'class'])\n",
    "    return models"
   ]
  },
  {
   "cell_type": "code",
   "execution_count": 40,
   "metadata": {},
   "outputs": [],
   "source": [
    "#Classification\n",
    "def naive_bayes(image):\n",
    "    prob = 1\n",
    "    probability = 0.00\n",
    "    for class_name in class_names:\n",
    "        for i in range(5):\n",
    "            a = (image[i]-mean[class_name][i])**2/(2*variance[class_name][i])\n",
    "            b = 1/(np.sqrt(2*3.14*variance[class_name][i]))\n",
    "            prob=prob * (b* np.exp(0-a))\n",
    "        \n",
    "        prob=1\n",
    "        if(prob>probability):\n",
    "            probability = prob\n",
    "            probability_class = class_name\n",
    "    return probability_class"
   ]
  },
  {
   "cell_type": "code",
   "execution_count": 41,
   "metadata": {},
   "outputs": [],
   "source": [
    "#Validation\n",
    "def validate(sampling_count):\n",
    "    right = 0\n",
    "    total = 0\n",
    "    for class_name in class_names:\n",
    "        validate_img_paths = glob.glob(validation_folder_path + class_name + '/' +img_type)\n",
    "        for images in validate_img_paths:\n",
    "            img = load_img(images)\n",
    "            training_img_class_name = class_name\n",
    "            image = feature_extract(img, sampling_count, training_img_class_name)\n",
    "            predict = naive_bayes(image)\n",
    "            class_image = class_name\n",
    "            if(predict == class_name):\n",
    "                   right+=1\n",
    "            total +=1\n",
    "        accuracy = (right/total) * 100\n",
    "    print(\"Accuracy: \" + str(accuracy) +\"%\")"
   ]
  },
  {
   "cell_type": "code",
   "execution_count": 42,
   "metadata": {},
   "outputs": [],
   "source": [
    "#Testing\n",
    "\n",
    "def testing():\n",
    "    right = 0\n",
    "    total = 0\n",
    "    for class_name in class_names:\n",
    "        for image in model_test[class_name]:\n",
    "            predict = naive_bayes(image)\n",
    "            class_image = class_name\n",
    "            if(predict == class_name):\n",
    "                   right+=1\n",
    "            total +=1\n",
    "    accuracy = (right/total) * 100\n",
    "    print(\"Accuracy: \" + str(accuracy) +\"%\" + \"\\n\" + str(mean) + \"\\n\" + str(variance))\n",
    "    \n",
    "    \n",
    "def testing_out(sampling_count):\n",
    "    testing_img_paths = glob.glob(test_folder_path + '/' + img_type)\n",
    "    for testing_img_path in testing_img_paths:\n",
    "        imgs = load_img(testing_img_path)\n",
    "        predict_class = knn(imgs, sampling_count, neighbor)\n",
    "        print(\"Categorized as \" + predict_class)\n",
    "        plt.imshow(Image.open(testing_img_path))    "
   ]
  },
  {
   "cell_type": "code",
   "execution_count": 43,
   "metadata": {},
   "outputs": [],
   "source": [
    "def testings():\n",
    "    total={}\n",
    "    total[\"tulis\"] = models.loc[models['class'] == 'tulis']\n",
    "    total[\"cap\"] = models.loc[models['class'] == 'cap']\n",
    "    mean[\"tulis\"] = []\n",
    "    variance[\"tulis\"] = []\n",
    "    mean[\"cap\"] = []\n",
    "    variance[\"cap\"] = []\n",
    "    tulis_probability = (total[\"tulis\"].count()/models.count())[0]\n",
    "    cap_probability = (total[\"cap\"].count()/models.count())[0]\n",
    "    for a in [\"tulis\", \"cap\"]:\n",
    "        for b in ['contrast', 'homogeneity', 'energy', 'correlation', 'ASM', 'dissimilarity']:\n",
    "            mean[a].append(total[a][b].mean())\n",
    "            variance[a].append(total[a][b].var())\n",
    "    \n",
    "    testing()"
   ]
  },
  {
   "cell_type": "code",
   "execution_count": 44,
   "metadata": {},
   "outputs": [
    {
     "name": "stdout",
     "output_type": "stream",
     "text": [
      "Accuracy: 50.0%\n",
      "{'tulis': [1.5655395479262482, 0.7030687293823624, 0.4052162762779895, 0.43564949570391565, 0.17479044063445684, 0.7465584679777028], 'cap': [2.3572158526636877, 0.6661340776346898, 0.4007022155167646, 0.34683432140264253, 0.19328881753312682, 0.9233486069731146]}\n",
      "{'tulis': [0.48874038263260466, 0.004399204071248496, 0.010642897686164754, 0.04470420873884568, 0.006955398809142212, 0.0460207014348839], 'cap': [3.553966826739118, 0.023740199905435293, 0.03287463595884327, 0.06332803854907498, 0.030224878722603005, 0.2829029377458523]}\n",
      "Accuracy: 49.549549549549546%\n",
      "{'tulis': [1.5532012247115459, 0.7049534991324553, 0.40640562350713255, 0.4359906626853945, 0.17563476531027553, 0.7413858158084506], 'cap': [2.375226201405318, 0.6655248818250565, 0.40146731063751623, 0.34285505878690503, 0.194245518910303, 0.9270235646693266]}\n",
      "{'tulis': [0.5062437104717781, 0.004546693270154947, 0.010495212741414446, 0.04440626748365329, 0.006852939624847146, 0.0477070802077835], 'cap': [3.50869594398805, 0.023558809052083646, 0.03314383092202954, 0.06406297726302834, 0.0309617435790939, 0.27963929474821825]}\n",
      "Accuracy: 52.121212121212125%\n",
      "{'tulis': [1.5651672469385949, 0.703648261539114, 0.4041081973301682, 0.4392093943291174, 0.17376763008562604, 0.7454365501009819], 'cap': [2.395110910477673, 0.6639822815167179, 0.4004109857082054, 0.33949239111615376, 0.19292163865900808, 0.932543150230749]}\n",
      "{'tulis': [0.5060569647544378, 0.004523274490938138, 0.010481209887303968, 0.04369515037403797, 0.006810407249311444, 0.04755993410464104], 'cap': [3.5436781314018875, 0.023590118178869676, 0.0326419893241643, 0.06469259281842937, 0.030106922185697077, 0.2813930243329541]}\n",
      "Accuracy: 51.460674157303366%\n",
      "{'tulis': [1.56473740917381, 0.7037696008362915, 0.403814525977028, 0.43880382711886007, 0.1734484284063162, 0.7451523932038369], 'cap': [2.3965433304946417, 0.6625701374784516, 0.3980673963017668, 0.3376352473010363, 0.19041832256141153, 0.9352903097439832]}\n",
      "{'tulis': [0.5037602759121538, 0.004482466791734557, 0.010394995981928076, 0.043964409684518625, 0.006742859601272943, 0.04725263586422971], 'cap': [3.5007822504037795, 0.02325076016376925, 0.03199690715088372, 0.06455919481791382, 0.029359550892614234, 0.2775150255435619]}\n",
      "Accuracy: 51.91256830601093%\n",
      "{'tulis': [1.566077206700589, 0.7037944794377341, 0.40461230014893906, 0.43748359398678927, 0.17417155285085542, 0.745320186470661], 'cap': [2.40076312929775, 0.6626423305337542, 0.3986191929641929, 0.3374948794762145, 0.19103812899655095, 0.9357830147504193]}\n",
      "{'tulis': [0.5005836681453636, 0.004457355205025647, 0.010470644725790144, 0.04425764194749486, 0.0068088252825594065, 0.046958072809040366], 'cap': [3.506490817213159, 0.023277846348106482, 0.03216998110219677, 0.06445538367892581, 0.02962108427474559, 0.27796582288134836]}\n",
      "Accuracy: 46.09375%\n",
      "Time elapsed to make this model is 75.83547900000002 seconds.\n"
     ]
    }
   ],
   "source": [
    "#Training Testing\n",
    "\n",
    "learning_rate = 0.8\n",
    "sampling_count = 128\n",
    "img_type = '*.jpg'\n",
    "root_path = './'\n",
    "training_folder_path = root_path + 'glcm/training/'\n",
    "validation_folder_path = root_path + 'glcm/validation/'\n",
    "test_folder_path = root_path + 'glcm/test/'\n",
    "\n",
    "class_names = get_class_names(training_folder_path)\n",
    "\n",
    "for i in range(5):\n",
    "    for class_name in class_names:\n",
    "        training_img_paths = glob.glob(training_folder_path + class_name + '/' + img_type)\n",
    "        for training_img_path in training_img_paths:\n",
    "            training_img = load_img(training_img_path)\n",
    "            training_img_class_name = class_name\n",
    "            feature = feature_extract(training_img, sampling_count, training_img_class_name)\n",
    "            make_a_model(class_name, feature, learning_rate)\n",
    "        \n",
    "    models = to_dataframe(model)\n",
    "    models_test = to_dataframe(model_test)\n",
    "\n",
    "    testings()\n",
    "validate(128)\n",
    "\n",
    "\n",
    "\n",
    "time_modelling_stop = timeit.default_timer()\n",
    "print('Time elapsed to make this model is ' + str(time_modelling_stop - time_modelling_start) + ' seconds.')"
   ]
  },
  {
   "cell_type": "code",
   "execution_count": 24,
   "metadata": {},
   "outputs": [
    {
     "ename": "NameError",
     "evalue": "name 'total' is not defined",
     "output_type": "error",
     "traceback": [
      "\u001b[1;31m---------------------------------------------------------------------------\u001b[0m",
      "\u001b[1;31mNameError\u001b[0m                                 Traceback (most recent call last)",
      "\u001b[1;32m<ipython-input-24-f5f7acea0338>\u001b[0m in \u001b[0;36m<module>\u001b[1;34m\u001b[0m\n\u001b[1;32m----> 1\u001b[1;33m \u001b[0mtotal\u001b[0m\u001b[1;33m\u001b[0m\u001b[1;33m\u001b[0m\u001b[0m\n\u001b[0m",
      "\u001b[1;31mNameError\u001b[0m: name 'total' is not defined"
     ]
    }
   ],
   "source": [
    "total"
   ]
  },
  {
   "cell_type": "code",
   "execution_count": 38,
   "metadata": {},
   "outputs": [],
   "source": [
    "x = models.iloc[:, [0, 5]].values  \n",
    "y = models.iloc[:, 6].values  "
   ]
  },
  {
   "cell_type": "code",
   "execution_count": 46,
   "metadata": {},
   "outputs": [
    {
     "data": {
      "text/plain": [
       "array([[1.70091043, 0.765625  ],\n",
       "       [1.4824065 , 0.72637795],\n",
       "       [1.93307087, 0.87881398],\n",
       "       ...,\n",
       "       [1.61226624, 0.72926919],\n",
       "       [1.64886811, 0.72404035],\n",
       "       [1.92550443, 0.82105069]])"
      ]
     },
     "execution_count": 46,
     "metadata": {},
     "output_type": "execute_result"
    }
   ],
   "source": [
    "x"
   ]
  },
  {
   "cell_type": "code",
   "execution_count": 40,
   "metadata": {},
   "outputs": [],
   "source": [
    "from sklearn.model_selection import train_test_split  \n",
    "x_train, x_test, y_train, y_test = train_test_split(x, y, test_size = 0.25, random_state = 5)"
   ]
  },
  {
   "cell_type": "code",
   "execution_count": null,
   "metadata": {},
   "outputs": [],
   "source": []
  },
  {
   "cell_type": "code",
   "execution_count": 41,
   "metadata": {},
   "outputs": [],
   "source": [
    "from sklearn.preprocessing import StandardScaler  \n",
    "sc = StandardScaler()  \n",
    "x_train = sc.fit_transform(x_train)  \n",
    "x_test = sc.transform(x_test) "
   ]
  },
  {
   "cell_type": "code",
   "execution_count": 42,
   "metadata": {},
   "outputs": [
    {
     "data": {
      "text/plain": [
       "GaussianNB(priors=None, var_smoothing=1e-09)"
      ]
     },
     "execution_count": 42,
     "metadata": {},
     "output_type": "execute_result"
    }
   ],
   "source": [
    "from sklearn.naive_bayes import GaussianNB  \n",
    "classifier = GaussianNB()  \n",
    "classifier.fit(x_train, y_train)  "
   ]
  },
  {
   "cell_type": "code",
   "execution_count": 43,
   "metadata": {},
   "outputs": [],
   "source": [
    "y_pred = classifier.predict(x_test)  "
   ]
  },
  {
   "cell_type": "code",
   "execution_count": 44,
   "metadata": {},
   "outputs": [
    {
     "data": {
      "text/plain": [
       "0.7014925373134329"
      ]
     },
     "execution_count": 44,
     "metadata": {},
     "output_type": "execute_result"
    }
   ],
   "source": [
    "from sklearn.metrics import accuracy_score\n",
    "\n",
    "accuracy_score(y_test, y_pred) "
   ]
  },
  {
   "cell_type": "code",
   "execution_count": null,
   "metadata": {},
   "outputs": [],
   "source": []
  },
  {
   "cell_type": "code",
   "execution_count": null,
   "metadata": {},
   "outputs": [],
   "source": []
  },
  {
   "cell_type": "code",
   "execution_count": null,
   "metadata": {},
   "outputs": [],
   "source": []
  },
  {
   "cell_type": "code",
   "execution_count": 43,
   "metadata": {},
   "outputs": [],
   "source": []
  },
  {
   "cell_type": "code",
   "execution_count": null,
   "metadata": {},
   "outputs": [],
   "source": []
  },
  {
   "cell_type": "code",
   "execution_count": null,
   "metadata": {},
   "outputs": [],
   "source": []
  },
  {
   "cell_type": "code",
   "execution_count": null,
   "metadata": {},
   "outputs": [],
   "source": []
  }
 ],
 "metadata": {
  "kernelspec": {
   "display_name": "Python 3",
   "language": "python",
   "name": "python3"
  },
  "language_info": {
   "codemirror_mode": {
    "name": "ipython",
    "version": 3
   },
   "file_extension": ".py",
   "mimetype": "text/x-python",
   "name": "python",
   "nbconvert_exporter": "python",
   "pygments_lexer": "ipython3",
   "version": "3.7.6"
  }
 },
 "nbformat": 4,
 "nbformat_minor": 4
}
